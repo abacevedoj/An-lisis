{
 "cells": [
  {
   "cell_type": "markdown",
   "metadata": {},
   "source": [
    "Este material es parte del curso Análisis de Estruturas en el programa de Ingeniería Civil de la Universidad EAFIT. Fue preparado por Ana Beatriz Acevedo y Daniela Gonzalez."
   ]
  },
  {
   "cell_type": "markdown",
   "metadata": {},
   "source": [
    "# Cercha plana: matriz de rigidez global del elemento"
   ]
  },
  {
   "cell_type": "markdown",
   "metadata": {},
   "source": [
    "## Matriz de rigidez local"
   ]
  },
  {
   "cell_type": "markdown",
   "metadata": {},
   "source": [
    "Los parámetros que definen la matriz de rigidez de una cercha plana son (para cada elemento): Área de la sección transversal (A), módulo de rigidez (E) y longitud (L)."
   ]
  },
  {
   "cell_type": "markdown",
   "metadata": {},
   "source": [
    "$$\n",
    "k=\\begin{bmatrix}\n",
    "\\frac{AE}{L} &0 &-\\frac{AE}{L} &0\\\\\n",
    "0 &0 &0 &0\\\\\n",
    "-\\frac{AE}{L} &0 &\\frac{AE}{L} &0\\\\\n",
    "0 &0 &0 &0\n",
    "\\end{bmatrix}\n",
    "$$\n",
    "\n",
    "Consideremos un elemento con estas propiedades: Área = 500 mm$^{2}$, Longitud = 2 m y E_acero = 200,000 MPa.\n",
    "\n",
    "<div class=\"alert alert-warning\">\n",
    "Es muy importante ser consistentes con las unidades. Vamos a trabajar las fuerzas en kN y las distancias en mm.\n",
    "</div>\n",
    "\n",
    "Ingresa los valores de las propiedades de los elementos con estas unidades:"
   ]
  },
  {
   "cell_type": "code",
   "execution_count": 1,
   "metadata": {},
   "outputs": [],
   "source": [
    "A = 500 #Área de la sección transversal en mm^2\n",
    "L = 2000 #Longitud del elemento en m\n",
    "E = 200 #Módulo de elasticidad en GPa"
   ]
  },
  {
   "cell_type": "markdown",
   "metadata": {},
   "source": [
    "Generemos la matriz de rigidez del elemento kL (k en coordenadas locales). Las unidades son (kN/mm)."
   ]
  },
  {
   "cell_type": "code",
   "execution_count": 2,
   "metadata": {},
   "outputs": [
    {
     "name": "stdout",
     "output_type": "stream",
     "text": [
      "[[ 50.   0. -50.   0.]\n",
      " [  0.   0.   0.   0.]\n",
      " [-50.   0.  50.   0.]\n",
      " [  0.   0.   0.   0.]]\n"
     ]
    }
   ],
   "source": [
    "import numpy as np\n",
    "MAL = np.zeros((4,4), dtype =float)\n",
    "MAL[0,0]=A*E/L\n",
    "MAL[2,0]=-A*E/L\n",
    "MAL[0,2]=-A*E/L\n",
    "MAL[2,2]=A*E/L\n",
    "print(MAL)"
   ]
  },
  {
   "cell_type": "markdown",
   "metadata": {},
   "source": [
    "Esta matriz es única para el elemento: *No importa la dirección del elemento, está siempre será su matriz*"
   ]
  },
  {
   "cell_type": "markdown",
   "metadata": {},
   "source": [
    "**Modifica los valores de las propiedades de los elementos para ver sus efectos en la matriz de rigidez local**"
   ]
  },
  {
   "cell_type": "markdown",
   "metadata": {},
   "source": [
    "## Matriz de transformación##"
   ]
  },
  {
   "cell_type": "markdown",
   "metadata": {},
   "source": [
    "Ahora consideremos la posición del elemento en el espacio"
   ]
  },
  {
   "cell_type": "markdown",
   "metadata": {},
   "source": [
    "<img src=\"img\\Elemento_inclinado.PNG\">\n",
    "$$\n",
    "\\begin{Bmatrix} F_1\\\\ F_2\\\\ F_7\\\\ F_8\\end{Bmatrix} =\n",
    "\\begin{bmatrix}\n",
    "CX &0 &0 &0\\\\\n",
    "CY &0 &0 &0\\\\\n",
    "0 &0 &CX &0\\\\\n",
    "0 &0 & CY &0\\\\\n",
    "\\end{bmatrix}\n",
    "\\begin{Bmatrix} f_1\\\\ f_1\\\\ f_2\\\\ f_9\\end{Bmatrix}\n",
    "$$\n",
    "\n",
    "\n",
    "$$\n",
    "\\{F\\}=\\begin{bmatrix}T\\end{bmatrix}*\\{f\\}\n",
    "$$\n",
    "\n",
    "$\n",
    "\\begin{bmatrix}T\\end{bmatrix}=$ Matriz de transformación de coordenadas\n",
    "\n",
    "Longitud del elemento: $L=\\sqrt{(X_f-X_i)^{2}+(Y_f-Y_i)^{2}+(Z_f-Z_i)^{2}}$\n",
    "\n",
    "$CX=\\frac{X_f-X_i}{L}$; $CY=\\frac{Y_f-Y_i}{L}$; $CZ=\\frac{Z_f-Z_i}{L}$"
   ]
  },
  {
   "cell_type": "markdown",
   "metadata": {},
   "source": [
    "Consideremos la cercha de acero de la figura. El área transversal de los elementos internos es de 550 mm$^{2}$ y de los elementos externos de 700 mm$^{2}. (E acero = 200,000 MPa = 200 GPa)"
   ]
  },
  {
   "cell_type": "markdown",
   "metadata": {},
   "source": [
    "<img src=\"img\\Cercha.PNG\">"
   ]
  },
  {
   "cell_type": "markdown",
   "metadata": {},
   "source": [
    "Los elementos AD y CF tienen igual área, igual longitud e igual módulo de elasticidad. Por lo tanto tienen igual matriz de rigidez local. **Calcula la matriz de rigidez local de los estos elementos**"
   ]
  },
  {
   "cell_type": "code",
   "execution_count": 3,
   "metadata": {},
   "outputs": [
    {
     "name": "stdout",
     "output_type": "stream",
     "text": [
      "[[ 48.01960384   0.         -48.01960384   0.        ]\n",
      " [  0.           0.           0.           0.        ]\n",
      " [-48.01960384   0.          48.01960384   0.        ]\n",
      " [  0.           0.           0.           0.        ]]\n"
     ]
    }
   ],
   "source": [
    "A = 700 #Área de la sección transversal en mm`2\n",
    "L = ((1.5**2+2.5**2)**0.5)*1000 #Longitud en mm\n",
    "E = 200 #Módulo de elasticidad en GPa\n",
    "MAL = np.zeros((4,4), dtype =float)\n",
    "MAL[0,0]=A*E/L\n",
    "MAL[2,0]=-A*E/L\n",
    "MAL[0,2]=-A*E/L\n",
    "MAL[2,2]=A*E/L\n",
    "print(MAL)"
   ]
  },
  {
   "cell_type": "markdown",
   "metadata": {},
   "source": [
    "Calcula la matriz de transformación del elemento AD *Recuerda que estamos trabajando en mm y en kN*.\n",
    "\n",
    "Primero calculemos los cosenos directores de AD:"
   ]
  },
  {
   "cell_type": "code",
   "execution_count": 4,
   "metadata": {},
   "outputs": [
    {
     "name": "stdout",
     "output_type": "stream",
     "text": [
      "0.5144957554275265\n",
      "-0.8574929257125442\n"
     ]
    }
   ],
   "source": [
    "CX=(1500-0)/L\n",
    "CY=(0-2500)/L\n",
    "print(CX)\n",
    "print(CY)"
   ]
  },
  {
   "cell_type": "markdown",
   "metadata": {},
   "source": [
    "Ahora calculemos la matriz de transformación AD:"
   ]
  },
  {
   "cell_type": "code",
   "execution_count": 5,
   "metadata": {},
   "outputs": [
    {
     "name": "stdout",
     "output_type": "stream",
     "text": [
      "[[ 0.51449576  0.          0.          0.        ]\n",
      " [-0.85749293  0.          0.          0.        ]\n",
      " [ 0.          0.          0.51449576  0.        ]\n",
      " [ 0.          0.         -0.85749293  0.        ]]\n"
     ]
    }
   ],
   "source": [
    "MT_AD = np.zeros((4,4), dtype =float)\n",
    "MT_AD[0,0]=CX\n",
    "MT_AD[1,0]=CY\n",
    "MT_AD[2,2]=CX\n",
    "MT_AD[3,2]=CY\n",
    "print(MT_AD)"
   ]
  },
  {
   "cell_type": "markdown",
   "metadata": {},
   "source": [
    "Cambiemos de elemento. Ahora consideremos CF:\n",
    "\n",
    "Cosenos directores:"
   ]
  },
  {
   "cell_type": "code",
   "execution_count": 6,
   "metadata": {},
   "outputs": [
    {
     "name": "stdout",
     "output_type": "stream",
     "text": [
      "-0.5144957554275265\n",
      "-0.8574929257125442\n"
     ]
    }
   ],
   "source": [
    "CX=(4500-6000)/L\n",
    "CY=(0-2500)/L\n",
    "print(CX)\n",
    "print(CY)"
   ]
  },
  {
   "cell_type": "markdown",
   "metadata": {},
   "source": [
    "**¿Qué diferencia notas con respecto a los cosenos directores del elemento AD? ¿A qué se debe?**"
   ]
  },
  {
   "cell_type": "markdown",
   "metadata": {},
   "source": [
    "Ahora calculemos la matriz de transformación de CF:"
   ]
  },
  {
   "cell_type": "code",
   "execution_count": 7,
   "metadata": {},
   "outputs": [
    {
     "name": "stdout",
     "output_type": "stream",
     "text": [
      "[[-0.51449576  0.          0.          0.        ]\n",
      " [-0.85749293  0.          0.          0.        ]\n",
      " [ 0.          0.         -0.51449576  0.        ]\n",
      " [ 0.          0.         -0.85749293  0.        ]]\n"
     ]
    }
   ],
   "source": [
    "MT_CF = np.zeros((4,4), dtype =float)\n",
    "MT_CF[0,0]=CX\n",
    "MT_CF[1,0]=CY\n",
    "MT_CF[2,2]=CX\n",
    "MT_CF[3,2]=CY\n",
    "print(MT_CF)"
   ]
  },
  {
   "cell_type": "markdown",
   "metadata": {},
   "source": [
    "**¿Por qué son diferentes?**"
   ]
  },
  {
   "cell_type": "markdown",
   "metadata": {},
   "source": [
    "## Matriz del elemento en coordenadas globales##"
   ]
  },
  {
   "cell_type": "markdown",
   "metadata": {},
   "source": [
    "$$\n",
    "\\begin{bmatrix}K\\end{bmatrix}=\\begin{bmatrix}T\\end{bmatrix}*\\begin{bmatrix}k\\end{bmatrix}*\\begin{bmatrix}T\\end{bmatrix}^{-1}\n",
    "$$\n",
    "\n"
   ]
  },
  {
   "cell_type": "markdown",
   "metadata": {},
   "source": [
    "Calculemos ahora la matriz de rigidez de cada elemento en coordenadas globales"
   ]
  },
  {
   "cell_type": "code",
   "execution_count": 8,
   "metadata": {},
   "outputs": [
    {
     "name": "stdout",
     "output_type": "stream",
     "text": [
      "[[ 12.7110716  -21.18511934 -12.7110716   21.18511934]\n",
      " [-21.18511934  35.30853224  21.18511934 -35.30853224]\n",
      " [-12.7110716   21.18511934  12.7110716  -21.18511934]\n",
      " [ 21.18511934 -35.30853224 -21.18511934  35.30853224]]\n"
     ]
    }
   ],
   "source": [
    "K_AD=np.dot(MT_AD,np.dot(MAL,np.transpose(MT_AD)))\n",
    "print(K_AD)"
   ]
  },
  {
   "cell_type": "code",
   "execution_count": 9,
   "metadata": {},
   "outputs": [
    {
     "name": "stdout",
     "output_type": "stream",
     "text": [
      "[[ 12.7110716   21.18511934 -12.7110716  -21.18511934]\n",
      " [ 21.18511934  35.30853224 -21.18511934 -35.30853224]\n",
      " [-12.7110716  -21.18511934  12.7110716   21.18511934]\n",
      " [-21.18511934 -35.30853224  21.18511934  35.30853224]]\n"
     ]
    }
   ],
   "source": [
    "K_CF=np.dot(MT_CF,np.dot(MAL,np.transpose(MT_CF)))\n",
    "print(K_CF)"
   ]
  },
  {
   "cell_type": "markdown",
   "metadata": {},
   "source": [
    "**¿Qué diferencias ves?, ¿A qué se deben?**"
   ]
  }
 ],
 "metadata": {
  "kernelspec": {
   "display_name": "Python 3",
   "language": "python",
   "name": "python3"
  },
  "language_info": {
   "codemirror_mode": {
    "name": "ipython",
    "version": 3
   },
   "file_extension": ".py",
   "mimetype": "text/x-python",
   "name": "python",
   "nbconvert_exporter": "python",
   "pygments_lexer": "ipython3",
   "version": "3.7.3"
  }
 },
 "nbformat": 4,
 "nbformat_minor": 2
}
