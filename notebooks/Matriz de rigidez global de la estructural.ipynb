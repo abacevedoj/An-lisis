{
 "cells": [
  {
   "cell_type": "markdown",
   "metadata": {},
   "source": [
    "Este material es parte del curso Análisis de Estruturas en el programa de Ingeniería Civil de la Universidad EAFIT. Fue preparado por Ana Beatriz Acevedo y Daniela Gonzalez."
   ]
  },
  {
   "cell_type": "markdown",
   "metadata": {},
   "source": [
    "# Taller 2: Matriz de rigidez global de la estructura"
   ]
  },
  {
   "cell_type": "markdown",
   "metadata": {},
   "source": [
    "Para la cercha a continuación calcular la matriz de rigidez global."
   ]
  },
  {
   "cell_type": "markdown",
   "metadata": {},
   "source": [
    "<img src=\"img\\Cercha.PNG\">"
   ]
  },
  {
   "cell_type": "markdown",
   "metadata": {},
   "source": [
    "## Datos de entrada"
   ]
  },
  {
   "cell_type": "markdown",
   "metadata": {},
   "source": [
    "Área transversal de los elementos internos ($A_i$) y de los elementos externos ($A_e$) en mm$^{2}$:"
   ]
  },
  {
   "cell_type": "code",
   "execution_count": 1,
   "metadata": {},
   "outputs": [],
   "source": [
    "Ai = \n",
    "Ae = "
   ]
  },
  {
   "cell_type": "markdown",
   "metadata": {},
   "source": [
    "Determinar el número de nodos (Nn) y el número de elementos (Ne) que conforman la cercha:"
   ]
  },
  {
   "cell_type": "code",
   "execution_count": 2,
   "metadata": {},
   "outputs": [],
   "source": [
    "Nn = \n",
    "Ne = "
   ]
  },
  {
   "cell_type": "raw",
   "metadata": {},
   "source": [
    "¿Cuántos grados de libertad tiene la estructura (NGL)? "
   ]
  },
  {
   "cell_type": "code",
   "execution_count": 3,
   "metadata": {},
   "outputs": [],
   "source": [
    "NGL = 12"
   ]
  },
  {
   "cell_type": "markdown",
   "metadata": {},
   "source": [
    "Enumerar los grados de libertad de cada nodo, teniendo en cuenta como sugerencia que los últimos grados de libertad enumerados corresponden a los desplazamientos conocidos."
   ]
  },
  {
   "cell_type": "code",
   "execution_count": 4,
   "metadata": {},
   "outputs": [],
   "source": [
    "Ax = 10\n",
    "Ay = 9\n",
    "Bx = 5\n",
    "By = 6\n",
    "Cx = 7\n",
    "Cy = 8\n",
    "Dx = 1\n",
    "Dy = 2\n",
    "Ex = 3\n",
    "Ey = 4\n",
    "Fx = 11\n",
    "Fy = 12"
   ]
  },
  {
   "cell_type": "raw",
   "metadata": {},
   "source": [
    "Escribir la matriz de rigidez de los grados de libertad iniciales y finales de cada elemento [MGL]"
   ]
  },
  {
   "cell_type": "code",
   "execution_count": 6,
   "metadata": {},
   "outputs": [],
   "source": [
    "import numpy as np\n",
    "MGL = np.array([[10, 9, 5, 6],[5, 6, 7, 8], [1, 2, 3, 4], [3, 4, 11, 12],[3, 4, 5, 6],[1, 2, 10, 9],[1, 2, 5, 6], [11, 12, 5, 6], [11, 12, 7, 8]])"
   ]
  },
  {
   "cell_type": "code",
   "execution_count": 9,
   "metadata": {},
   "outputs": [
    {
     "name": "stdout",
     "output_type": "stream",
     "text": [
      "[[10  9  5  6]\n",
      " [ 5  6  7  8]\n",
      " [ 1  2  3  4]\n",
      " [ 3  4 11 12]\n",
      " [ 3  4  5  6]\n",
      " [ 1  2 10  9]\n",
      " [ 1  2  5  6]\n",
      " [11 12  5  6]\n",
      " [11 12  7  8]]\n"
     ]
    }
   ],
   "source": [
    "print (MGL)"
   ]
  },
  {
   "cell_type": "markdown",
   "metadata": {},
   "source": [
    "Matriz con propiedades de cada elemento (MA):"
   ]
  },
  {
   "cell_type": "code",
   "execution_count": 11,
   "metadata": {},
   "outputs": [
    {
     "name": "stdout",
     "output_type": "stream",
     "text": [
      "[[700]\n",
      " [700]\n",
      " [700]\n",
      " [700]\n",
      " [550]\n",
      " [700]\n",
      " [550]\n",
      " [550]\n",
      " [700]]\n"
     ]
    }
   ],
   "source": [
    "MA = np.array([[Ae],[Ae],[Ae],[Ae],[Ai],[Ae],[Ai],[Ai],[Ae]])\n",
    "print (MA)"
   ]
  },
  {
   "cell_type": "markdown",
   "metadata": {},
   "source": [
    "Matriz con módulo de elasticidad"
   ]
  },
  {
   "cell_type": "code",
   "execution_count": 12,
   "metadata": {},
   "outputs": [],
   "source": [
    "E = 200 #En GPA, E_acero = 200,00 MPA"
   ]
  },
  {
   "cell_type": "code",
   "execution_count": 13,
   "metadata": {},
   "outputs": [
    {
     "name": "stdout",
     "output_type": "stream",
     "text": [
      "[[200]\n",
      " [200]\n",
      " [200]\n",
      " [200]\n",
      " [200]\n",
      " [200]\n",
      " [200]\n",
      " [200]\n",
      " [200]]\n"
     ]
    }
   ],
   "source": [
    "ME = np.array([[E],[E],[E],[E],[E],[E],[E],[E],[E]])\n",
    "print (ME)"
   ]
  },
  {
   "cell_type": "markdown",
   "metadata": {},
   "source": [
    "Matriz con coordenadas iniciales y finales de cada elemento, ME, en mm"
   ]
  },
  {
   "cell_type": "code",
   "execution_count": 14,
   "metadata": {},
   "outputs": [
    {
     "name": "stdout",
     "output_type": "stream",
     "text": [
      "[[   0. 2500. 3000. 2500.]\n",
      " [3000. 2500. 6000. 2500.]\n",
      " [1500.    0. 3000.    0.]\n",
      " [3000.    0. 4500.    0.]\n",
      " [3000.    0. 3000. 2500.]\n",
      " [1500.    0.    0. 2500.]\n",
      " [1500.    0. 3000. 2500.]\n",
      " [4500.    0. 3000. 2500.]\n",
      " [4500.    0. 6000. 2500.]]\n"
     ]
    }
   ],
   "source": [
    "MC = np.array([[0, 2.5, 3, 2.5],[3, 2.5, 6, 2.5],[1.5, 0, 3, 0],[3, 0, 4.5, 0],[3, 0, 3, 2.5],[1.5, 0, 0, 2.5],[1.5, 0, 3, 2.5],[4.5, 0, 3, 2.5],[4.5, 0, 6, 2.5]]) # en m\n",
    "MC= MC*1000 #en mm\n",
    "print (MC)"
   ]
  },
  {
   "cell_type": "markdown",
   "metadata": {},
   "source": [
    "<div class=\"alert alert-warning\">\n",
    "*Propuesta: crea un código que te permita dibujar la cercha. Así podrás darte cuenta si entraste bien los datos*\n",
    "</div>"
   ]
  },
  {
   "cell_type": "markdown",
   "metadata": {},
   "source": [
    "## Cálculos "
   ]
  },
  {
   "cell_type": "markdown",
   "metadata": {},
   "source": [
    "Calcular la matriz de longitudes de cada elemento ML:"
   ]
  },
  {
   "cell_type": "code",
   "execution_count": 15,
   "metadata": {},
   "outputs": [
    {
     "name": "stdout",
     "output_type": "stream",
     "text": [
      "[[3000.        ]\n",
      " [3000.        ]\n",
      " [1500.        ]\n",
      " [1500.        ]\n",
      " [2500.        ]\n",
      " [2915.47594742]\n",
      " [2915.47594742]\n",
      " [2915.47594742]\n",
      " [2915.47594742]]\n"
     ]
    }
   ],
   "source": [
    "ML = np.zeros((Ne,1),dtype=float) #matriz de almacenamiento, inicia en ceros\n",
    "for i in range(Ne):\n",
    "    ML[i,0]=((MC[i,2]-MC[i,0])**2+(MC[i,3]-MC[i,1])**2)**0.5\n",
    "print (ML)"
   ]
  },
  {
   "cell_type": "markdown",
   "metadata": {},
   "source": [
    "Matriz de rigidez local (MAL)"
   ]
  },
  {
   "cell_type": "code",
   "execution_count": 17,
   "metadata": {},
   "outputs": [
    {
     "name": "stdout",
     "output_type": "stream",
     "text": [
      "[[[ 46.66666667   0.         -46.66666667   0.        ]\n",
      "  [  0.           0.           0.           0.        ]\n",
      "  [-46.66666667   0.          46.66666667   0.        ]\n",
      "  [  0.           0.           0.           0.        ]]\n",
      "\n",
      " [[ 46.66666667   0.         -46.66666667   0.        ]\n",
      "  [  0.           0.           0.           0.        ]\n",
      "  [-46.66666667   0.          46.66666667   0.        ]\n",
      "  [  0.           0.           0.           0.        ]]\n",
      "\n",
      " [[ 93.33333333   0.         -93.33333333   0.        ]\n",
      "  [  0.           0.           0.           0.        ]\n",
      "  [-93.33333333   0.          93.33333333   0.        ]\n",
      "  [  0.           0.           0.           0.        ]]\n",
      "\n",
      " [[ 93.33333333   0.         -93.33333333   0.        ]\n",
      "  [  0.           0.           0.           0.        ]\n",
      "  [-93.33333333   0.          93.33333333   0.        ]\n",
      "  [  0.           0.           0.           0.        ]]\n",
      "\n",
      " [[ 44.           0.         -44.           0.        ]\n",
      "  [  0.           0.           0.           0.        ]\n",
      "  [-44.           0.          44.           0.        ]\n",
      "  [  0.           0.           0.           0.        ]]\n",
      "\n",
      " [[ 48.01960384   0.         -48.01960384   0.        ]\n",
      "  [  0.           0.           0.           0.        ]\n",
      "  [-48.01960384   0.          48.01960384   0.        ]\n",
      "  [  0.           0.           0.           0.        ]]\n",
      "\n",
      " [[ 37.72968873   0.         -37.72968873   0.        ]\n",
      "  [  0.           0.           0.           0.        ]\n",
      "  [-37.72968873   0.          37.72968873   0.        ]\n",
      "  [  0.           0.           0.           0.        ]]\n",
      "\n",
      " [[ 37.72968873   0.         -37.72968873   0.        ]\n",
      "  [  0.           0.           0.           0.        ]\n",
      "  [-37.72968873   0.          37.72968873   0.        ]\n",
      "  [  0.           0.           0.           0.        ]]\n",
      "\n",
      " [[ 48.01960384   0.         -48.01960384   0.        ]\n",
      "  [  0.           0.           0.           0.        ]\n",
      "  [-48.01960384   0.          48.01960384   0.        ]\n",
      "  [  0.           0.           0.           0.        ]]]\n"
     ]
    }
   ],
   "source": [
    "MAL=np.zeros((Ne,4,4),dtype=float)\n",
    "for i in range (Ne):\n",
    "    MAL[i,0,0]=(MA[i,0]*ME[i,0])/ML[i,0]\n",
    "    MAL[i,0,2]=-MAL[i,0,0]\n",
    "    MAL[i,2,0]=-MAL[i,0,0]\n",
    "    MAL[i,2,2]=MAL[i,0,0]\n",
    "print(MAL)"
   ]
  },
  {
   "cell_type": "markdown",
   "metadata": {},
   "source": [
    "Matriz de transformación (MAT). Matriz tridimensional de matrices de transformación de cada elemento."
   ]
  },
  {
   "cell_type": "code",
   "execution_count": 18,
   "metadata": {},
   "outputs": [
    {
     "name": "stdout",
     "output_type": "stream",
     "text": [
      "[[[ 1.          0.          0.          0.        ]\n",
      "  [ 0.          0.          0.          0.        ]\n",
      "  [ 0.          0.          1.          0.        ]\n",
      "  [ 0.          0.          0.          0.        ]]\n",
      "\n",
      " [[ 1.          0.          0.          0.        ]\n",
      "  [ 0.          0.          0.          0.        ]\n",
      "  [ 0.          0.          1.          0.        ]\n",
      "  [ 0.          0.          0.          0.        ]]\n",
      "\n",
      " [[ 1.          0.          0.          0.        ]\n",
      "  [ 0.          0.          0.          0.        ]\n",
      "  [ 0.          0.          1.          0.        ]\n",
      "  [ 0.          0.          0.          0.        ]]\n",
      "\n",
      " [[ 1.          0.          0.          0.        ]\n",
      "  [ 0.          0.          0.          0.        ]\n",
      "  [ 0.          0.          1.          0.        ]\n",
      "  [ 0.          0.          0.          0.        ]]\n",
      "\n",
      " [[ 0.          0.          0.          0.        ]\n",
      "  [ 1.          0.          0.          0.        ]\n",
      "  [ 0.          0.          0.          0.        ]\n",
      "  [ 0.          0.          1.          0.        ]]\n",
      "\n",
      " [[-0.51449576  0.          0.          0.        ]\n",
      "  [ 0.85749293  0.          0.          0.        ]\n",
      "  [ 0.          0.         -0.51449576  0.        ]\n",
      "  [ 0.          0.          0.85749293  0.        ]]\n",
      "\n",
      " [[ 0.51449576  0.          0.          0.        ]\n",
      "  [ 0.85749293  0.          0.          0.        ]\n",
      "  [ 0.          0.          0.51449576  0.        ]\n",
      "  [ 0.          0.          0.85749293  0.        ]]\n",
      "\n",
      " [[-0.51449576  0.          0.          0.        ]\n",
      "  [ 0.85749293  0.          0.          0.        ]\n",
      "  [ 0.          0.         -0.51449576  0.        ]\n",
      "  [ 0.          0.          0.85749293  0.        ]]\n",
      "\n",
      " [[ 0.51449576  0.          0.          0.        ]\n",
      "  [ 0.85749293  0.          0.          0.        ]\n",
      "  [ 0.          0.          0.51449576  0.        ]\n",
      "  [ 0.          0.          0.85749293  0.        ]]]\n"
     ]
    }
   ],
   "source": [
    "MAT=np.zeros((Ne,4,4),dtype=float)\n",
    "for i in range (Ne):\n",
    "    MAT[i,0,0]=(MC[i,2]-MC[i,0])/ML[i,0]\n",
    "    MAT[i,1,0]=(MC[i,3]-MC[i,1])/ML[i,0]\n",
    "    MAT[i,2,2]=MAT[i,0,0]\n",
    "    MAT[i,3,2]=MAT[i,1,0]\n",
    "print(MAT)"
   ]
  },
  {
   "cell_type": "markdown",
   "metadata": {},
   "source": [
    "Cálculo de la matriz de rigidez en coordenadas globales de cada elemento en [kN/mm]. MAG:"
   ]
  },
  {
   "cell_type": "code",
   "execution_count": 19,
   "metadata": {},
   "outputs": [
    {
     "name": "stdout",
     "output_type": "stream",
     "text": [
      "[[[ 46.66666667   0.         -46.66666667   0.        ]\n",
      "  [  0.           0.           0.           0.        ]\n",
      "  [-46.66666667   0.          46.66666667   0.        ]\n",
      "  [  0.           0.           0.           0.        ]]\n",
      "\n",
      " [[ 46.66666667   0.         -46.66666667   0.        ]\n",
      "  [  0.           0.           0.           0.        ]\n",
      "  [-46.66666667   0.          46.66666667   0.        ]\n",
      "  [  0.           0.           0.           0.        ]]\n",
      "\n",
      " [[ 93.33333333   0.         -93.33333333   0.        ]\n",
      "  [  0.           0.           0.           0.        ]\n",
      "  [-93.33333333   0.          93.33333333   0.        ]\n",
      "  [  0.           0.           0.           0.        ]]\n",
      "\n",
      " [[ 93.33333333   0.         -93.33333333   0.        ]\n",
      "  [  0.           0.           0.           0.        ]\n",
      "  [-93.33333333   0.          93.33333333   0.        ]\n",
      "  [  0.           0.           0.           0.        ]]\n",
      "\n",
      " [[  0.           0.           0.           0.        ]\n",
      "  [  0.          44.           0.         -44.        ]\n",
      "  [  0.           0.           0.           0.        ]\n",
      "  [  0.         -44.           0.          44.        ]]\n",
      "\n",
      " [[ 12.7110716  -21.18511934 -12.7110716   21.18511934]\n",
      "  [-21.18511934  35.30853224  21.18511934 -35.30853224]\n",
      "  [-12.7110716   21.18511934  12.7110716  -21.18511934]\n",
      "  [ 21.18511934 -35.30853224 -21.18511934  35.30853224]]\n",
      "\n",
      " [[  9.98727055  16.64545091  -9.98727055 -16.64545091]\n",
      "  [ 16.64545091  27.74241818 -16.64545091 -27.74241818]\n",
      "  [ -9.98727055 -16.64545091   9.98727055  16.64545091]\n",
      "  [-16.64545091 -27.74241818  16.64545091  27.74241818]]\n",
      "\n",
      " [[  9.98727055 -16.64545091  -9.98727055  16.64545091]\n",
      "  [-16.64545091  27.74241818  16.64545091 -27.74241818]\n",
      "  [ -9.98727055  16.64545091   9.98727055 -16.64545091]\n",
      "  [ 16.64545091 -27.74241818 -16.64545091  27.74241818]]\n",
      "\n",
      " [[ 12.7110716   21.18511934 -12.7110716  -21.18511934]\n",
      "  [ 21.18511934  35.30853224 -21.18511934 -35.30853224]\n",
      "  [-12.7110716  -21.18511934  12.7110716   21.18511934]\n",
      "  [-21.18511934 -35.30853224  21.18511934  35.30853224]]]\n"
     ]
    }
   ],
   "source": [
    "MAG=np.zeros((Ne,4,4),dtype=float)\n",
    "for i in range (Ne):\n",
    "    MAG[i]=np.dot(MAT[i],np.dot(MAL[i],np.transpose(MAT[i])))\n",
    "print(MAG)"
   ]
  },
  {
   "cell_type": "markdown",
   "metadata": {},
   "source": [
    "## Ensamble de la matriz de rigidez global"
   ]
  },
  {
   "cell_type": "markdown",
   "metadata": {},
   "source": [
    "Matriz de rigidez global de la estructura KG:\n",
    "¿Cuál es el tamaño de la matriz de rigidez global?"
   ]
  },
  {
   "cell_type": "code",
   "execution_count": 22,
   "metadata": {},
   "outputs": [
    {
     "name": "stdout",
     "output_type": "stream",
     "text": [
      "[[116.03167548  -4.53966843 -93.33333333   0.          -9.98727055\n",
      "  -16.64545091   0.           0.          21.18511934 -12.7110716\n",
      "    0.           0.        ]\n",
      " [ -4.53966843  63.05095042   0.           0.         -16.64545091\n",
      "  -27.74241818   0.           0.         -35.30853224  21.18511934\n",
      "    0.           0.        ]\n",
      " [-93.33333333   0.         186.66666667   0.           0.\n",
      "    0.           0.           0.           0.           0.\n",
      "  -93.33333333   0.        ]\n",
      " [  0.           0.           0.          44.           0.\n",
      "  -44.           0.           0.           0.           0.\n",
      "    0.           0.        ]\n",
      " [ -9.98727055 -16.64545091   0.           0.         113.30787443\n",
      "    0.         -46.66666667   0.           0.         -46.66666667\n",
      "   -9.98727055  16.64545091]\n",
      " [-16.64545091 -27.74241818   0.         -44.           0.\n",
      "   99.48483637   0.           0.           0.           0.\n",
      "   16.64545091 -27.74241818]\n",
      " [  0.           0.           0.           0.         -46.66666667\n",
      "    0.          59.37773827  21.18511934   0.           0.\n",
      "  -12.7110716  -21.18511934]\n",
      " [  0.           0.           0.           0.           0.\n",
      "    0.          21.18511934  35.30853224   0.           0.\n",
      "  -21.18511934 -35.30853224]\n",
      " [ 21.18511934 -35.30853224   0.           0.           0.\n",
      "    0.           0.           0.          35.30853224 -21.18511934\n",
      "    0.           0.        ]\n",
      " [-12.7110716   21.18511934   0.           0.         -46.66666667\n",
      "    0.           0.           0.         -21.18511934  59.37773827\n",
      "    0.           0.        ]\n",
      " [  0.           0.         -93.33333333   0.          -9.98727055\n",
      "   16.64545091 -12.7110716  -21.18511934   0.           0.\n",
      "  116.03167548   4.53966843]\n",
      " [  0.           0.           0.           0.          16.64545091\n",
      "  -27.74241818 -21.18511934 -35.30853224   0.           0.\n",
      "    4.53966843  63.05095042]]\n"
     ]
    }
   ],
   "source": [
    "KG=np.zeros((NGL,NGL),dtype=float)\n",
    "for i in range (Ne):\n",
    "    for j in range (4):\n",
    "        for k in range (4):\n",
    "            KG[MGL[i,j]-1,MGL[i,k]-1]=KG[MGL[i,j]-1,MGL[i,k]-1]+MAG[i,j,k]\n",
    "print(KG)"
   ]
  },
  {
   "cell_type": "code",
   "execution_count": null,
   "metadata": {},
   "outputs": [],
   "source": []
  }
 ],
 "metadata": {
  "kernelspec": {
   "display_name": "Python 3",
   "language": "python",
   "name": "python3"
  },
  "language_info": {
   "codemirror_mode": {
    "name": "ipython",
    "version": 3
   },
   "file_extension": ".py",
   "mimetype": "text/x-python",
   "name": "python",
   "nbconvert_exporter": "python",
   "pygments_lexer": "ipython3",
   "version": "3.7.3"
  }
 },
 "nbformat": 4,
 "nbformat_minor": 2
}
